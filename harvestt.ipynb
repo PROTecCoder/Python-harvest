{
  "metadata": {
    "kernelspec": {
      "name": "python",
      "display_name": "Python (Pyodide)",
      "language": "python"
    },
    "language_info": {
      "codemirror_mode": {
        "name": "python",
        "version": 3
      },
      "file_extension": ".py",
      "mimetype": "text/x-python",
      "name": "python",
      "nbconvert_exporter": "python",
      "pygments_lexer": "ipython3",
      "version": "3.8"
    }
  },
  "nbformat_minor": 5,
  "nbformat": 4,
  "cells": [
    {
      "cell_type": "code",
      "source": "import requests",
      "metadata": {},
      "execution_count": null,
      "outputs": [],
      "id": "ec554c86-4bb7-461b-aecb-d16133b98895"
    },
    {
      "cell_type": "code",
      "source": "response=requests.get('http://www.marymount.edu')\n",
      "metadata": {},
      "execution_count": null,
      "outputs": [],
      "id": "fe116d04-6f24-43c8-baa3-ca020ab53b52"
    },
    {
      "cell_type": "code",
      "source": "response",
      "metadata": {},
      "execution_count": null,
      "outputs": [],
      "id": "02a6f204-ede0-435e-b581-a7e393172c5f"
    },
    {
      "cell_type": "code",
      "source": "response.status_code\nresponse.headers",
      "metadata": {},
      "execution_count": null,
      "outputs": [],
      "id": "f3fab9b1-8f31-4d44-8cc1-479c959fb997"
    },
    {
      "cell_type": "code",
      "source": "text=response.text\nwith open ('output.html',\"w\",encoding='utf8') as outfile:\n    outfile.write(text)",
      "metadata": {},
      "execution_count": null,
      "outputs": [],
      "id": "b6e6b384-5f14-4e3a-ad4e-d5fe8befa1e6"
    },
    {
      "cell_type": "code",
      "source": "import re\npeople=re.findall(r'alt=\"leaders image\"></noscript><h4>(.*)</h4>',text)\npeople",
      "metadata": {},
      "execution_count": null,
      "outputs": [],
      "id": "097b59bd-ddbb-4b64-b1dd-f0dab76a6d57"
    },
    {
      "cell_type": "code",
      "source": "title=re.findall(r'<title>(.*)</title>',text)\ntitle",
      "metadata": {},
      "execution_count": null,
      "outputs": [],
      "id": "c3c130f6-88c8-4bdc-9fdf-aeb01304d56b"
    },
    {
      "cell_type": "code",
      "source": "events = re.findall(r\"<li><a class='rsswidget' href='https://marymount.campuslabs.com/engage/event/\\d+'>(\\w+ \\w+)</a> <span class=\\\"rss-date\\\">\",text)\nevents",
      "metadata": {},
      "execution_count": null,
      "outputs": [],
      "id": "b1b9b7ec-7570-450e-954c-7593085741e4"
    },
    {
      "cell_type": "code",
      "source": "links = re.findall(r'<a href=\"(http.*)\"',text)\nlinks\nfor url in links:\n    response = requests.get(url).text\n    links = re.findall(r'<a href=\"(http.*)\"',response.text)",
      "metadata": {},
      "execution_count": null,
      "outputs": [],
      "id": "2fcde583-f71c-45fe-9d49-8c1ef63eb6db"
    },
    {
      "cell_type": "code",
      "source": "response = requests.get('https://www.miniclip.com/games') \nmini=response.text",
      "metadata": {},
      "execution_count": 35,
      "outputs": [],
      "id": "5dbda828-5d19-4eab-93b2-15dd4686698a"
    },
    {
      "cell_type": "code",
      "source": "game_names= re.findall(r'<h3 class=\"ft-title text-2xl md:text-lg lg:text-2xl font-medium mb-4 md:mb-2\" data-v-46a9fbec data-v-14b641b4>(\\w+ \\w+)</h3>',mini)\ngame_names",
      "metadata": {},
      "execution_count": 40,
      "outputs": [
        {
          "execution_count": 40,
          "output_type": "execute_result",
          "data": {
            "text/plain": [
              "['Carrom Pool',\n",
              " 'Subway Surfers',\n",
              " 'Mini Basketball',\n",
              " 'Mini Football',\n",
              " 'Football Strike',\n",
              " 'Soccer Stars',\n",
              " 'Basketball Stars']"
            ]
          },
          "metadata": {}
        }
      ],
      "id": "209d8774-753a-4227-8347-fa8cebfebd6d"
    },
    {
      "cell_type": "code",
      "source": "from mediawiki import MediaWiki\nwikipedia = MediaWiki()\nwikipedia.search('Marymount')",
      "metadata": {},
      "execution_count": 43,
      "outputs": [
        {
          "execution_count": 43,
          "output_type": "execute_result",
          "data": {
            "text/plain": [
              "['Marymount',\n",
              " 'Loyola Marymount University',\n",
              " 'Marymount University',\n",
              " 'Marymount College',\n",
              " 'Marymount California University',\n",
              " 'Marymount High School',\n",
              " 'Marymount Manhattan College',\n",
              " 'Maddie Baillio',\n",
              " 'Santa Barbara, California',\n",
              " 'Marymount MRT station']"
            ]
          },
          "metadata": {}
        }
      ],
      "id": "70aaba7f-c852-4744-84f2-1ab0167481c2"
    },
    {
      "cell_type": "code",
      "source": "p = wikipedia.page('Marymount University')\np.summary",
      "metadata": {},
      "execution_count": 47,
      "outputs": [
        {
          "execution_count": 47,
          "output_type": "execute_result",
          "data": {
            "text/plain": [
              "\"Marymount University is a private Catholic university with its main campus in Arlington, Virginia. Marymount offers bachelor's, master's and doctoral degrees. It has approximately 3,897 students enrolled, representing approximately 45 states and 79 countries.\""
            ]
          },
          "metadata": {}
        }
      ],
      "id": "1e10f7a4-110e-4c7b-8b0e-f025997c380a"
    },
    {
      "cell_type": "code",
      "source": "p.content",
      "metadata": {},
      "execution_count": 49,
      "outputs": [
        {
          "execution_count": 49,
          "output_type": "execute_result",
          "data": {
            "text/plain": [
              "'Marymount University is a private Catholic university with its main campus in Arlington, Virginia. Marymount offers bachelor\\'s, master\\'s and doctoral degrees. It has approximately 3,897 students enrolled, representing approximately 45 states and 79 countries.\\n\\n\\n== History ==\\nMarymount was founded in 1950 by the Religious of the Sacred Heart of Mary (RSHM) as Marymount College, a two-year women\\'s school. It was a member school of the Marymount colleges operated by the sisterhood in New York, California and several other states. The campus was located on the former estate of Admiral Presley Marion Rixey, Naval Surgeon General and personal physician to Presidents Theodore Roosevelt and William McKinley. Classes and activities were centered around the former Rixey Mansion, renamed as the university\\'s \"Main House.\"\\nMarymount became a four-year college in 1973. It added master\\'s degree programs in 1979, and its first doctoral program, the clinical Doctor of Physical Therapy, in 2005. Its first male students were admitted into the nursing program in 1972, and the college became fully coeducational and changed its name to Marymount University in 1986.The university established the Center for Ethical Concerns in 1993.\\nIn October 2010, Marymount celebrated its 60th anniversary with the grand opening and ribbon-cutting ceremony for Caruthers Hall, a 52,000-square-foot (4,800 m2) academic facility focused on the sciences and health sciences, and Rose Benté Lee Ostapenko Hall, a 77,000-square-foot (7,200 m2) residence hall providing apartment-style housing for 239 students. The Malek Plaza is a gathering area between the two buildings and features a statue of Sister Majella Berg, RSHM, who was president of Marymount from 1960 to 1993. A sky bridge connects the new buildings to the rest of the campus.In August 2017, Marymount opened the Ballston Center. The LEED Gold Certified multi-use complex comprises a nine-story academic/office tower and The Rixey, a 12-story residential/retail building, each boasting multi-level underground parking. Ballston Center is anchored by a public plaza and the Reinsch Pierce Family Courtyard.\\nDuring the tenure of current president Irma Becerra, Marymount received designation as the first Hispanic-Serving Institution (HSI) in Virginia. The university has also restructured its academic programs into three highly-focused colleges to create broader educational and research opportunities, launched several fully-online doctorate programs and opened both the Saints Center for Service and the Center for Diversity, Equity and Inclusion.\\n\\n\\n== Academics and accreditation ==\\nMarymount University is accredited by the Southern Association of Colleges and Schools Commission on Colleges to award doctoral, master\\'s and bachelor\\'s degrees. It is classified among \"Doctoral/Professional Universities\".The school grants bachelor\\'s, master\\'s, and doctoral degrees, undergraduate and graduate certification and pre-professional programs in teaching, law, medicine and physical therapy through the College of Health and Education, College of Business, Innovation, Leadership and Technology and College of Science and Humanities.\\nMarymount is a member of the Consortium of Universities of the Washington Metropolitan Area, which allows students to take courses at any of the other 17 member institutions and to borrow books from their libraries.\\n\\n\\n== Campuses ==\\n\\n\\n=== Main Campus ===\\nMarymount\\'s Main Campus is located on 21 acres (85,000 m2) in the North Arlington area of Arlington, Virginia. The campus includes six residence halls: Rose Benté Lee Ostapenko Hall, Rowley Hall, Butler Hall, St. Joseph\\'s Hall, Berg Hall and Gerard Phelan Hall; three academic buildings: Rowley Academic Center, Caruthers Hall and Gailhac Hall; St. Joseph\\'s Hall computer labs; the Rose Benté Lee Center, which includes two gyms, Bernie\\'s Cafe, mail facilities and recreational and meeting spaces; the Gerard Phelan Cafeteria; the Emerson G. Reinsch Library and Auditorium; The Lodge; Ireton Hall; the Administration Building; the Chapel of the Sacred Heart of Mary; and the synthetic-turf practice field.\\n\\n\\n=== Ballston Center ===\\nMarymount\\'s Ballston Center is 2 miles (3.2 km) away from Main Campus in Arlington and houses the College of Business, Innovation, Leadership and Technology. The Graduate Enrollment Services office is also located here. The Center also includes the Cody Gallery, Eats Café, Coakley Family Library, computer labs, chapel, conference center and auditorium.\\nAcross the courtyard, The Rixey offers retail space as well as residential apartments for Marymount students.\\nThe Ballston-MU Metro Station is within walking distance from the Ballston Center. Additionally, free shuttle services operate between the Ballston-MU Metro Station, Main Campus, 4040 Center and Ballston Center.\\n\\n\\n=== 4040 Center ===\\nMarymount\\'s 4040 Center houses its physical therapy doctoral program and MedStar Clinic. The clinic, a partnership between Marymount and MedStar NRH Rehabilitation Network, provides physical therapy services to the community while allowing for an enriching environment in which Marymount physical therapy students gain valuable clinical education experience.\\nThe 4040 Center location is just minutes from Main Campus and within walking distance of the Ballston-MU Metro Station. Students travel to and from locations on free Marymount shuttles.\\n\\n\\n== Athletics and recreation ==\\nMarymount\\'s athletic teams, known as the Saints, compete in NCAA Division III in the Atlantic East Conference and sponsor 22 sports. Men\\'s sports include baseball, basketball, cross country, golf, lacrosse, soccer, swimming, tennis, track & field, volleyball and wrestling. Women\\'s sports include basketball, cross country, golf, lacrosse, soccer, softball, swimming, tennis, track & field, volleyball and wrestling.After nearly 29 years as a founding member of the Capital Athletic Conference, Marymount joined with six other institutions in the region to form a new league, the Atlantic East Conference, which received NCAA approval to begin competition on September 1, 2018.In 2020, a record 50 percent of Marymount student-athletes were named to the Atlantic East Conference All-Academic Team. Additionally, six student-athletes earned a spot on the Virginia Sports Information Directors (VaSID) Academic All-State team.Marymount also offers recreation and intramural programming throughout the year. Intramural offerings include basketball, volleyball, soccer, ultimate frisbee, kickball, wiffleball and canoe battleship.\\nA variety of fitness classes are offered free to students, faculty and staff.\\n\\n\\n== Clubs and student organizations ==\\nMarymount University has over 30 clubs and student organizations, most of which are advised by the Office of Student Transition, Engagement and Leadership. Student clubs and organizations are created based on the interests of Marymount students, and include groups dedicated to community service or philanthropy, cultural appreciation or specific academic interests. \\nThe Student Government Association, Association for Campus Events and Marymount University\\'s student-run newspaper The Banner provide students with additional organizational management experience. In addition, students have the opportunity to engage in leadership development opportunities through participation as an Orientation Leader, Community Assistant or Peer Mentor.\\n\\n\\n== Community engagement ==\\nEach year, Marymount students provide more than 16,000 hours of service in the local and global community. From tutoring children, providing health-assessment services, conducting food drives and cleaning up parks to building a chapel in the Dominican Republic or raising funds for a well in Sierra Leone, Marymount students actively seek out ways to make a difference.In 2018, Marymount University established the Saints Center for Service to implement a framework for sustainable service programming. The center supports, promotes and coordinates service opportunities across campus, leveraging Marymount University\\'s commitment to service and providing further opportunities for Marymount\\'s students and faculty to work together on service projects, both inside and outside the classroom.\\n\\n\\n== Awards and acknowledgments ==\\nIn the U.S. News & World Report\\'s 2023 Best Colleges Rankings, Marymount University was listed among \\'Best National Universities\\' for the first time in the institution\\'s history. Previously, it was listed with \\'Regional Universities of the South.\\' Marymount\\'s newest rankings include:\\n\\n#299 overall among Best National Universities\\n#23 nationally for Campus Ethnic Diversity\\n#20 nationally for Schools with the Most International Students\\n#2 Undergraduate Nursing Program among private institutions in VirginiaAdditional recognitions include:\\n\\nDesignated a Hispanic-Serving Institution (HSI) and certified by the U.S. Department of Education.\\nNamed 2017 Educator of the Year by The World Affairs Council, Washington, D.C.\\n\\n\\n== Notable alumni ==\\nToni Ardabell, Chief of Clinical Enterprise Operations for Inova Health System\\nLieutenant General Steven Boutelle, former Chief Information Officer of the U.S. Army\\nYene Damtew, hairstylist to Michelle Obama\\nCindy Eckert, co-founder & CEO of Sprout Pharmaceuticals\\nTonye Garrick, Nigerian singer and songwriter\\nRyan Hampton,(attended, but did not graduate) writer and political activist surrounding addiction\\nKatherine Kallinis Berman, co-founder of Georgetown Cupcake and star of TLC\\'s DC Cupcakes\\nGregg McCrary, author and former FBI criminal profiler\\nNoor Rashid Al Khalifa, founder, CEO and designer of fashion brand Noon By Noor \\nRashad Robinson, President of Color of Change\\nTimothy Sheehan, co-founder and CEO of Greenlight Financial Technology\\nMichael D. Smith, current CEO of AmeriCorps and former executive director of the My Brother\\'s Keeper (MBK) Alliance, an organization of the Obama Foundation\\nDr. Beverly Stallings-Johnson, Chief Diversity, Equity & Inclusion Officer of The Wendy\\'s Company\\nTyler Wisler, HGTV star and interior designer \\nDoreen Wonda Johnson, member of the New Mexico House of Representatives\\nMia Yim, professional wrestler\\n\\n\\n== References ==\\n\\n\\n== External links ==\\nOfficial website'"
            ]
          },
          "metadata": {}
        }
      ],
      "id": "ead5aefa-0af8-46b5-a8f9-319115df7f0d"
    },
    {
      "cell_type": "code",
      "source": "",
      "metadata": {},
      "execution_count": null,
      "outputs": [],
      "id": "e9acc895-66fe-4216-92e3-8e9f149be0f6"
    }
  ]
}